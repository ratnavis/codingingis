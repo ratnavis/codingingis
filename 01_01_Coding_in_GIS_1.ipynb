{
 "cells": [
  {
   "cell_type": "markdown",
   "metadata": {},
   "source": [
    "# Einleitung zu diesem Block"
   ]
  },
  {
   "cell_type": "markdown",
   "metadata": {
    "tags": [
     "admonition"
    ]
   },
   "source": [
    "In diesem Block bekommt ihr euren ersten Kontakt mit Python und lernt dabei auch gerade JupyterLabs kennen, um mit Python zu interagieren. Um euch den Einstieg zu erleichtern müsst ihr noch nichts lokal auf euren Rechnern installieren, sondern könnt auf einem ZHAW-Server arbeiten. Ihr könnt euch mit folgendem Link und eurem ZHAW Kürzel (ohne \"\\@students.zhaw.ch\") und Passwort einloggen: \n",
    "\n",
    "[jupyterhub01.zhaw.ch](https://jupyterhub01.zhaw.ch)\n",
    "\n",
    "Um die Übungen zu lösen, könnt ihr nach dem Einloggen wie folgt Vorgehen (siehe dazu auch die Vorlesungsfolien)\n",
    "\n",
    "1. Erstellt einen neuen Ordner (z.B. \"CodinginGIS\")\n",
    "2. Erstellt darin ein neues Jupyter-Notebook-File (File > New > Notebook)\n",
    "3. Bennent das File um (z.B. in \"CodinginGIS_1.ipynb\")\n",
    "4. Startet den Variable Inspector\n",
    "\n",
    "Nun könnt ihr mit den Übungen beginnen. Ich empfehle, jede Übung mit einer \"Markdown\"-Zelle zu starten, um eure Lösung zu gliedern.\n",
    "\n",
    "\n",
    "\n",
    "```{admonition} Übungsziele\n",
    ":class: attention\n",
    "- JupyterLabs aufstarten, kennenlernen und bei Bedarf personalisieren\n",
    "- Python kennen lernen, erste Interaktionen\n",
    "- Die wichtigsten Datentypen in Python kennen lernen (`bool`, `str`, `int`, `float`, `list`, `dict`)\n",
    "- Pandas DataFrames kennen lernen und einfache Manipulationen durchführen\n",
    "```\n",
    "\n"
   ]
  },
  {
   "cell_type": "code",
   "execution_count": null,
   "metadata": {
    "tags": [
     "remove-cell"
    ]
   },
   "outputs": [],
   "source": [
    "import pandas as pd\n",
    "\n",
    "pd.read_csv(\"unterrichtsplan.csv\")"
   ]
  }
 ],
 "metadata": {
  "kernelspec": {
   "display_name": "Python 3",
   "language": "python",
   "name": "python3"
  },
  "language_info": {
   "codemirror_mode": {
    "name": "ipython",
    "version": 3
   },
   "file_extension": ".py",
   "mimetype": "text/x-python",
   "name": "python",
   "nbconvert_exporter": "python",
   "pygments_lexer": "ipython3",
   "version": "3.7.8"
  }
 },
 "nbformat": 4,
 "nbformat_minor": 4
}
