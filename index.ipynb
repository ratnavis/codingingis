{
 "cells": [
  {
   "cell_type": "markdown",
   "metadata": {},
   "source": [
    "# Willkommen bei *Coding in GIS*\n",
    "\n",
    "Dieser kurze Kurs ist Bestandteil des übergreifenden Moduls \"[Angewandte Geoinformatik](https://studienplaner.lsfm.zhaw.ch/module/angewandte-geoinformatik)\" der Zürcher Hochschule für Angewandte Wissenschaften (ZHAW). Er soll einen Einstieg in die Programmierwelt von Python bieten und spezifisch zeigen wie man räumliche Fragestellungen mit frei verfügbarer Software lösen kann. \n",
    "\n",
    "Die Voraussetzung für dieser Kurs ist eine Offenheit, neue Tools und Ansätze kennen zu lernen, die Bereitschaft für lösungorientiertes Arbeiten sowie etwas Hartnäckigkeit."
   ]
  },
  {
   "cell_type": "markdown",
   "metadata": {},
   "source": [
    "```{admonition} Dieses Buch auch als pdf version verfügbar\n",
    ":class: tip\n",
    "Wir empfehlen, dass ihr im Unterricht die Online Version dieser Übungsunterlagen nutzt. Diese spiegeln immer den neusten Stand, sind responsive (passen sich an Endgeräte wie Tablets usw. an) und können die Musterlösungen interaktiv darstellen (sobald diese freigeschaltet sind). \n",
    "\n",
    "Als Doku für euch ist aber auch eine PDF Version der Unterlagen verfügbar. Speichert euch die erst am ende vom Kurs ab, damit ihr die neuste Version inkl. allen Musterlösungen habt.\n",
    "\n",
    "- online (**empfohlen**): [https://ratnanil.github.io/codingingis](https://ratnanil.github.io/codingingis)\n",
    "- pdf (nur für Doku / Notizen): [https://github.com/ratnanil/codingingis/raw/master/codingingis.pdf](https://github.com/ratnanil/codingingis/raw/master/codingingis.pdf)\n",
    "```"
   ]
  },
  {
   "cell_type": "markdown",
   "metadata": {},
   "source": [
    "Noch ein paar Hinweise zur Handhabung dieses Dokumentes:\n",
    "\n",
    "- Die Musterlösungen zu allen Aufgaben stehen bereit. Wir werden diese bald einblenden\n",
    "- Wenn sich im Fliesstext (Python- oder R-) Code befindet, wird er in `dieser Festschriftart` dargestellt\n",
    "- Englische Begriffe, deren Übersetzung eher verwirrend als nützlich wären, werden *in dieser Weise* hervorgehoben\n",
    "- Da viele von euch bereits Erfahrung in R haben, stelle ich immer wieder den Bezug zu dieser Programmiersprache her.\n",
    "- Alleinstehende Codezeilen werden folgendermassen dargestellt:\n",
    "- ```python\n",
    "  print(\"Coding in GIS!\")\n",
    "  ```\n",
    "- Der gesamte Quellcode um dieses Buch zu erstellen ist in dem folgenden github-repo verfügbar: [ratnanil/codingingis](https://github.com/ratnanil/codingingis)."
   ]
  }
 ],
 "metadata": {
  "kernelspec": {
   "display_name": "Python 3",
   "language": "python",
   "name": "python3"
  },
  "language_info": {
   "codemirror_mode": {
    "name": "ipython",
    "version": 3
   },
   "file_extension": ".py",
   "mimetype": "text/x-python",
   "name": "python",
   "nbconvert_exporter": "python",
   "pygments_lexer": "ipython3",
   "version": "3.7.8"
  }
 },
 "nbformat": 4,
 "nbformat_minor": 4
}
