{
 "cells": [
  {
   "cell_type": "markdown",
   "metadata": {},
   "source": [
    "# Python Modules"
   ]
  },
  {
   "cell_type": "markdown",
   "metadata": {},
   "source": [
    "## Vergleich R vs. Python\n",
    "\n",
    "Der Umgang mit Modulen ist in Python in vielerlei Hinsicht ähnlich wie in R. An dieser stelle möchten wir die Unterschiede in einem Direktvergleich beleuchten. Dafür verwenden wir ein fiktives Modul `maler` für Python wie auch für R.\n",
    "\n",
    "### Erweiterung installieren\n",
    "\n",
    "In R ist die Installation einer *Library* selbst ein R-Befehl und wird innerhalb von R ausgeführt. Wenn wir keine Quelle angeben, woher die Library heruntergeladen werden soll, wird eine Default-Quelle verwendet, die im System hinterlegt ist (z.B. \"https://cloud.r-project.org\"). \n",
    "\n",
    "In Python ist dies leider etwas komplizierter, es braucht für die Installation einer Python *Library* eine Zusatzsoftware wie zum Beispiel `conda` (siehe dazu das Kapitel {ref}`conda-cheet-sheet`). Es gibt auch noch andere Wege, wie zum Beispiel `pip`, aber diese lassen wir der Einfachheit an dieser Stelle weg.\n",
    "\n",
    "````{panels}\n",
    "in R*:\n",
    "\n",
    "```r \n",
    "install.packages(\"maler\")\n",
    "``` \n",
    "\n",
    "---\n",
    "In Python**:\n",
    "```bash\n",
    "conda install -c conda-foge maler \n",
    "```\n",
    "````\n",
    "### Erweiterung laden\n",
    "\n",
    "Um eine Erweiterung nutzen zu können, müssen wir diese sowohl in R wie auch in Python in die aktuelle Session importieren. In R und Python sehen die Befehle folgendermassen aus:\n",
    "\n",
    "\n",
    "````{panels}\n",
    "in R:\n",
    "\n",
    "```r\n",
    "library(maler)\n",
    "```\n",
    "---\n",
    "in Python:\n",
    "```python\n",
    "import maler\n",
    "```\n",
    "\n",
    "````\n",
    "\n",
    "### Erweiterung verwenden\n",
    "\n",
    "Um eine Funktion aus einer *Library* in R zu verwenden, kann ich diese *Function* direkt aufrufen. In Python hingegen muss ich entsprechende Erweiterung der *Function* mit einem Punkt voranstellen. \n",
    "\n",
    "Das ist zwar umständlicher, dafür aber weniger Fehleranfällig. Angenommen, zwei leicht unterschiedliche Funktionen heissen beide `wand_bemalen()`. Die eine stammt aus der Erweiterung `maler`, die andere aus der Erweiterung `maurer`. Wenn die Funktion in R aufgerufen wird ist nicht klar, aus welcher Library die Funktion verwendet werden soll. In Python ist im nachstehenden Beispiel unmissverständlich, dass `wand_bemalen()` aus dem Modul `maler` gemeint ist.\n",
    "\n",
    "````{panels}\n",
    "in R:\n",
    "```r\n",
    "wand_bemalen()\n",
    "```\n",
    "---\n",
    "in Python:\n",
    "```python\n",
    "maler.wand_bemalen()\n",
    "```\n",
    "````\n",
    "\n"
   ]
  },
  {
   "cell_type": "markdown",
   "metadata": {},
   "source": [
    "## Python Eigenheiten\n",
    "\n",
    "In Python gibt es in Bezug auf die Verwendung von Modulen ein paar Eigenheiten, die wir aus der R Welt nicht kennen. Es ist wichtig diese Eigenheiten zu kennen, denn man trifft sie immer wieder an. \n",
    "\n",
    "### Modul mit Alias importieren\n",
    "\n",
    "Da es umständlich sein kann, jedesmal `maler.wand_bemalen()` voll auszuschreiben, können wir dem Modul beim Import auch einen \"Alias\" vergeben. Für gewisse populäre Module haben sich solche Aliasse eingebürgert und es ist einfacher, wenn man diese auch verwendet. Dies kann folgendermassen aussehen:\n",
    "\n",
    "```python\n",
    "import maler as m\n",
    "m.wand_bemalen()\n",
    "```"
   ]
  },
  {
   "cell_type": "markdown",
   "metadata": {},
   "source": [
    "### Einzelne *Function* importieren\n",
    "\n",
    "Es gibt noch die Variante, explizit eine spezifische *Function* aus einem Modul zu laden. Wenn man dies macht, kann man die Funktion ohne vorangestelltes Modul nutzen (genau wie in R). Dies sieht folgendermassen aus:\n",
    "\n",
    "```python\n",
    "from maler import wand_bemalen\n",
    "wand_bemalen()\n",
    "```"
   ]
  },
  {
   "cell_type": "markdown",
   "metadata": {},
   "source": [
    "### Alle *Functions* importieren\n",
    "\n",
    "Zusätzlich ist es möglich, **alle** *Functions* aus einem Modul so zu importieren, dass der Modulname nicht mehr erwähnt werden muss. Diese Notation wird nicht empfohlen, aber es ist wichtig sie zu kennen.\n",
    "\n",
    "```python\n",
    "from maler import *\n",
    "wand_bemalen()\n",
    "```"
   ]
  }
 ],
 "metadata": {
  "kernelspec": {
   "display_name": "Python 3",
   "language": "python",
   "name": "python3"
  },
  "language_info": {
   "codemirror_mode": {
    "name": "ipython",
    "version": 3
   },
   "file_extension": ".py",
   "mimetype": "text/x-python",
   "name": "python",
   "nbconvert_exporter": "python",
   "pygments_lexer": "ipython3",
   "version": "3.7.8"
  }
 },
 "nbformat": 4,
 "nbformat_minor": 4
}
