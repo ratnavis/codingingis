{
 "cells": [
  {
   "cell_type": "markdown",
   "metadata": {},
   "source": [
    "# Einleitung zu diesem Block"
   ]
  },
  {
   "cell_type": "markdown",
   "metadata": {},
   "source": [
    "Heute wollen wir uns weiter mit den Zeckenstichdaten befassen. Wir werden im Wesentlichen ein Teil der Übung aus \"Datenqualität und Unsicherheit\" in Python rekonstruieren. \n",
    "\n",
    "In der Übung geht es um folgendes: Wir wissen das die Lagegenauigkeit der Zeckenstichmeldungen mit einer gewissen Unsicherheit behaftet sind. Um die Frage \"Welcher Anteil der der Zeckenstiche befinden sich im Wald?\" unter Berücksichtigung dieser Unsicherheit beantworten zu können, führen wir eine (Monte Carlo) Simulation durch.\n",
    "In dieser Simulation verändern wir die Position der Zeckenstichmeldungen zufällig und berechnen den Anteil der Zeckenstiche im Wald. Das zufällige Verschieben und berechnen wiederholen wir beliebig lange und bekommen für jede Wiederholung einen leicht unterschiedlichen Prozentwert. Die Verteilung dieser Prozentwerte ist die Antwort auf die ursprüngliche Frage (\"Welcher Anteil...\") unter Berücksichtigung der Unsicherheit.\n",
    "\n",
    "Um eine solche, etwas komplexere Aufgabe lösen zu können müssen wir sie in einfachere Einzelschritte aufteilen. Diese bearbeiten wir in dieser und der kommenden Woche:\n",
    "\n",
    "- Schritt 1: Einen Einzelpunkt zufällig verschieben\n",
    "- Schritt 2: Alle Punkte einer DataFrame zufällig verschieben (1 \"Run\")\n",
    "- Schritt 3: Alle Punkte einer DataFrame mehrfach zufällig verschieben (z.B. 50 \"Runs\")\n",
    "- Schritt 4: Anteil der Punkte im Wald pro \"Run\" ermitteln\n",
    "\n",
    "```{admonition} Übungsziele\n",
    ":class: attention\n",
    "- Ihr kennt For-Loops und könnt sie anwenden\n",
    "- Ihr verwendet eure erste räumliche Operation «Spatial Join» und wisst, dass es hier eine ganze Palette an weiteren Operatoren gibt\n",
    "- Ihr könnt eine (Geo-) DataFrame nach Gruppe Zusammenfassen\n",
    "- Ihr lernt weitere Visualisierungstechniken kennen\n",
    "```"
   ]
  }
 ],
 "metadata": {
  "kernelspec": {
   "display_name": "Python 3",
   "language": "python",
   "name": "python3"
  },
  "language_info": {
   "codemirror_mode": {
    "name": "ipython",
    "version": 3
   },
   "file_extension": ".py",
   "mimetype": "text/x-python",
   "name": "python",
   "nbconvert_exporter": "python",
   "pygments_lexer": "ipython3",
   "version": "3.7.8"
  }
 },
 "nbformat": 4,
 "nbformat_minor": 4
}
